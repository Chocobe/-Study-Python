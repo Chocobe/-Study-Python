{
 "cells": [
  {
   "cell_type": "code",
   "execution_count": 1,
   "id": "8e7ef28e-79c9-4594-b7e0-102f6e06292f",
   "metadata": {},
   "outputs": [],
   "source": [
    "import seaborn as sns"
   ]
  },
  {
   "cell_type": "code",
   "execution_count": null,
   "id": "af63ec69-216b-43a1-9f30-dffa6e0a9791",
   "metadata": {},
   "outputs": [],
   "source": []
  },
  {
   "cell_type": "code",
   "execution_count": 2,
   "id": "3246dc56-df6b-4b8a-979e-fe678891a94f",
   "metadata": {},
   "outputs": [],
   "source": [
    "# Q1\n",
    "# 시험 점수 변수 만들고 출력하기"
   ]
  },
  {
   "cell_type": "code",
   "execution_count": 3,
   "id": "45a57374-6008-4eab-8f46-146d4d75b3fd",
   "metadata": {},
   "outputs": [
    {
     "data": {
      "text/plain": [
       "[80, 60, 70, 50, 90]"
      ]
     },
     "execution_count": 3,
     "metadata": {},
     "output_type": "execute_result"
    }
   ],
   "source": [
    "scores = [80, 60, 70, 50, 90]\n",
    "scores"
   ]
  },
  {
   "cell_type": "code",
   "execution_count": null,
   "id": "ddf99370-6e83-4329-be24-1e80c74789ba",
   "metadata": {},
   "outputs": [],
   "source": []
  },
  {
   "cell_type": "code",
   "execution_count": null,
   "id": "e37f6ec9-543c-460e-a00a-8451065d7956",
   "metadata": {},
   "outputs": [],
   "source": []
  },
  {
   "cell_type": "code",
   "execution_count": 4,
   "id": "430888eb-064f-4276-861c-ee3774a71106",
   "metadata": {},
   "outputs": [],
   "source": [
    "# Q2\n",
    "# 합계 점수 구하기"
   ]
  },
  {
   "cell_type": "code",
   "execution_count": 5,
   "id": "844bedc5-105c-479a-ba46-dac5ca10bc84",
   "metadata": {},
   "outputs": [
    {
     "data": {
      "text/plain": [
       "350"
      ]
     },
     "execution_count": 5,
     "metadata": {},
     "output_type": "execute_result"
    }
   ],
   "source": [
    "total_score = sum(scores)\n",
    "total_score"
   ]
  }
 ],
 "metadata": {
  "kernelspec": {
   "display_name": "Python 3 (ipykernel)",
   "language": "python",
   "name": "python3"
  },
  "language_info": {
   "codemirror_mode": {
    "name": "ipython",
    "version": 3
   },
   "file_extension": ".py",
   "mimetype": "text/x-python",
   "name": "python",
   "nbconvert_exporter": "python",
   "pygments_lexer": "ipython3",
   "version": "3.11.5"
  }
 },
 "nbformat": 4,
 "nbformat_minor": 5
}
