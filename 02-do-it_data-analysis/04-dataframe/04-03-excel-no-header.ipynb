{
 "cells": [
  {
   "cell_type": "code",
   "execution_count": 16,
   "id": "b56e311e-f663-4d96-8610-d9e2a3bb2c8d",
   "metadata": {},
   "outputs": [],
   "source": [
    "import pandas as pd"
   ]
  },
  {
   "cell_type": "code",
   "execution_count": null,
   "id": "7b14d2d5-0acb-4640-8747-ea1155e2c4e2",
   "metadata": {},
   "outputs": [],
   "source": []
  },
  {
   "cell_type": "code",
   "execution_count": 17,
   "id": "03b078e2-b472-4204-b4fb-d30ff39070da",
   "metadata": {},
   "outputs": [],
   "source": [
    "# Excel 의 첫번째 row 에 column명이 아닌, 데이터가 있는 경우\n",
    "df_exam = pd.read_excel(\n",
    "    '../sample-data/Doit_Python-main/Data/excel_exam_novar.xlsx',\n",
    "    header=None\n",
    ")"
   ]
  },
  {
   "cell_type": "code",
   "execution_count": null,
   "id": "3a17a77b-9f3c-4315-bd94-7ca1e94b75b5",
   "metadata": {},
   "outputs": [],
   "source": []
  },
  {
   "cell_type": "code",
   "execution_count": 18,
   "id": "771ed77d-3f70-4459-afe9-55747ee1367c",
   "metadata": {},
   "outputs": [
    {
     "name": "stdout",
     "output_type": "stream",
     "text": [
      "df_exam:\n",
      "    0  1   2   3   4\n",
      "0  1  1  50  98  50\n",
      "1  2  1  60  97  60\n",
      "2  3  2  25  80  65\n",
      "3  4  2  50  89  98\n",
      "4  5  3  20  98  15\n",
      "5  6  3  50  98  45\n",
      "6  7  4  46  98  65\n",
      "7  8  4  48  87  12\n"
     ]
    }
   ],
   "source": [
    "print('df_exam:\\n', df_exam)"
   ]
  },
  {
   "cell_type": "code",
   "execution_count": null,
   "id": "87c8e115-9975-4390-b9ab-855603f1624b",
   "metadata": {},
   "outputs": [],
   "source": []
  },
  {
   "cell_type": "code",
   "execution_count": 19,
   "id": "7f78bec3-1391-4a94-9e83-233209018f46",
   "metadata": {},
   "outputs": [
    {
     "name": "stdout",
     "output_type": "stream",
     "text": [
      "df_exam_sheet_2:     id  nclass  math  english\n",
      "0   1       1    50       98\n",
      "1   2       1    60       97\n",
      "2   3       2    45       86\n",
      "3   4       2    30       98\n",
      "4   5       2    25       80\n"
     ]
    }
   ],
   "source": [
    "# Excel 의 두번째 Sheet 불러오기\n",
    "df_exam_sheet_2 = pd.read_excel(\n",
    "    '../sample-data/Doit_Python-main/Data/excel_exam.xlsx',\n",
    "    sheet_name=1\n",
    ")\n",
    "print('df_exam_sheet_2: ', df_exam_sheet_2)"
   ]
  }
 ],
 "metadata": {
  "kernelspec": {
   "display_name": "Python 3 (ipykernel)",
   "language": "python",
   "name": "python3"
  },
  "language_info": {
   "codemirror_mode": {
    "name": "ipython",
    "version": 3
   },
   "file_extension": ".py",
   "mimetype": "text/x-python",
   "name": "python",
   "nbconvert_exporter": "python",
   "pygments_lexer": "ipython3",
   "version": "3.11.5"
  }
 },
 "nbformat": 4,
 "nbformat_minor": 5
}
