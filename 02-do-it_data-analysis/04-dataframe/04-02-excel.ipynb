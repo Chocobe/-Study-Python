{
 "cells": [
  {
   "cell_type": "code",
   "execution_count": 2,
   "id": "98bb5bdc-b93a-465d-8799-17667445ea34",
   "metadata": {},
   "outputs": [],
   "source": [
    "import pandas as pd"
   ]
  },
  {
   "cell_type": "code",
   "execution_count": null,
   "id": "7c080e03-4f76-4f15-83f2-5f8d1aeb4238",
   "metadata": {},
   "outputs": [],
   "source": []
  },
  {
   "cell_type": "code",
   "execution_count": 7,
   "id": "44e46913-8151-4189-bc66-79d19d53d23b",
   "metadata": {},
   "outputs": [
    {
     "name": "stdout",
     "output_type": "stream",
     "text": [
      "df_exam:      id  nclass  math  english  science\n",
      "0    1       1    50       98       50\n",
      "1    2       1    60       97       60\n",
      "2    3       1    45       86       78\n",
      "3    4       1    30       98       58\n",
      "4    5       2    25       80       65\n",
      "5    6       2    50       89       98\n",
      "6    7       2    80       90       45\n",
      "7    8       2    90       78       25\n",
      "8    9       3    20       98       15\n",
      "9   10       3    50       98       45\n",
      "10  11       3    65       65       65\n",
      "11  12       3    45       85       32\n",
      "12  13       4    46       98       65\n",
      "13  14       4    48       87       12\n",
      "14  15       4    75       56       78\n",
      "15  16       4    58       98       65\n",
      "16  17       5    65       68       98\n",
      "17  18       5    80       78       90\n",
      "18  19       5    89       68       87\n",
      "19  20       5    78       83       58\n"
     ]
    }
   ],
   "source": [
    "# Excel 파일 => DataFrame 으로 읽어오기\n",
    "df_exam = pd.read_excel('../sample-data/Doit_Python-main/Data/excel_exam.xlsx')\n",
    "print('df_exam: ', df_exam)"
   ]
  },
  {
   "cell_type": "code",
   "execution_count": null,
   "id": "245cf425-acc3-49d8-af1b-a46ff95ae19a",
   "metadata": {},
   "outputs": [],
   "source": []
  },
  {
   "cell_type": "code",
   "execution_count": 9,
   "id": "f70fc303-a32d-4912-b220-290b3a4de130",
   "metadata": {},
   "outputs": [
    {
     "name": "stdout",
     "output_type": "stream",
     "text": [
      "mathAvg:  57.45\n"
     ]
    }
   ],
   "source": [
    "# `math` 평균\n",
    "mathAvg = sum(df_exam['math']) / len(df_exam)\n",
    "print('mathAvg: ', mathAvg)"
   ]
  },
  {
   "cell_type": "code",
   "execution_count": null,
   "id": "e1d5fcba-3148-4186-9c59-d6051cbdd9e6",
   "metadata": {},
   "outputs": [],
   "source": []
  },
  {
   "cell_type": "code",
   "execution_count": 10,
   "id": "2fbe74f7-7f5b-4631-8eaa-1ef1dded754d",
   "metadata": {},
   "outputs": [
    {
     "name": "stdout",
     "output_type": "stream",
     "text": [
      "englishAvg:  84.9\n"
     ]
    }
   ],
   "source": [
    "# `english` 평균\n",
    "englishAvg = sum(df_exam['english']) / len(df_exam)\n",
    "print('englishAvg: ', englishAvg)"
   ]
  },
  {
   "cell_type": "code",
   "execution_count": null,
   "id": "e3d8c1dc-a4ce-4074-9512-bfa4d2c8d8a2",
   "metadata": {},
   "outputs": [],
   "source": []
  },
  {
   "cell_type": "code",
   "execution_count": 11,
   "id": "1e0d8895-e4ba-4967-b7eb-bd088a54f3ca",
   "metadata": {},
   "outputs": [
    {
     "name": "stdout",
     "output_type": "stream",
     "text": [
      "scienceAvg:  59.45\n"
     ]
    }
   ],
   "source": [
    "# `science` 평균\n",
    "scienceAvg = sum(df_exam['science']) / len(df_exam)\n",
    "print('scienceAvg: ', scienceAvg)"
   ]
  }
 ],
 "metadata": {
  "kernelspec": {
   "display_name": "Python 3 (ipykernel)",
   "language": "python",
   "name": "python3"
  },
  "language_info": {
   "codemirror_mode": {
    "name": "ipython",
    "version": 3
   },
   "file_extension": ".py",
   "mimetype": "text/x-python",
   "name": "python",
   "nbconvert_exporter": "python",
   "pygments_lexer": "ipython3",
   "version": "3.11.5"
  }
 },
 "nbformat": 4,
 "nbformat_minor": 5
}
