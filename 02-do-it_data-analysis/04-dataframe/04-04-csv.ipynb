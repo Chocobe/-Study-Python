{
 "cells": [
  {
   "cell_type": "code",
   "execution_count": 1,
   "id": "972c2694-237b-4cc0-911d-655b9afde78a",
   "metadata": {},
   "outputs": [],
   "source": [
    "import pandas as pd"
   ]
  },
  {
   "cell_type": "code",
   "execution_count": null,
   "id": "51bedc29-03cd-4d04-bff0-832ef5de23a6",
   "metadata": {},
   "outputs": [],
   "source": []
  },
  {
   "cell_type": "code",
   "execution_count": 4,
   "id": "9d647804-1e29-4122-b909-b0ed39ee464d",
   "metadata": {},
   "outputs": [
    {
     "name": "stdout",
     "output_type": "stream",
     "text": [
      "    id  nclass  math  english  science\n",
      "0    1       1    50       98       50\n",
      "1    2       1    60       97       60\n",
      "2    3       1    45       86       78\n",
      "3    4       1    30       98       58\n",
      "4    5       2    25       80       65\n",
      "5    6       2    50       89       98\n",
      "6    7       2    80       90       45\n",
      "7    8       2    90       78       25\n",
      "8    9       3    20       98       15\n",
      "9   10       3    50       98       45\n",
      "10  11       3    65       65       65\n",
      "11  12       3    45       85       32\n",
      "12  13       4    46       98       65\n",
      "13  14       4    48       87       12\n",
      "14  15       4    75       56       78\n",
      "15  16       4    58       98       65\n",
      "16  17       5    65       68       98\n",
      "17  18       5    80       78       90\n",
      "18  19       5    89       68       87\n",
      "19  20       5    78       83       58\n"
     ]
    }
   ],
   "source": [
    "# CSV 파일 => DataFrame 으로 불러오기\n",
    "df_exam = pd.read_csv('../sample-data/Doit_Python-main/Data/exam.csv')\n",
    "\n",
    "print(df_exam)"
   ]
  },
  {
   "cell_type": "code",
   "execution_count": null,
   "id": "07fcd606-0229-4d4e-89b7-0c90b12cb304",
   "metadata": {},
   "outputs": [],
   "source": []
  },
  {
   "cell_type": "code",
   "execution_count": 10,
   "id": "a7f6db25-378e-45d9-9ea2-0826dc2e12ec",
   "metadata": {},
   "outputs": [
    {
     "name": "stdout",
     "output_type": "stream",
     "text": [
      "   Unnamed: 0  english  math  nclass\n",
      "0           0       90    50       1\n",
      "1           1       80    60       1\n",
      "2           2       60   100       2\n",
      "3           3       70    20       2\n"
     ]
    }
   ],
   "source": [
    "# DataFrame 객체 => CSV 파일로 저장하기\n",
    "new_df = pd.DataFrame({\n",
    "    'english': [90, 80, 60, 70],\n",
    "    'math': [50, 60, 100, 20],\n",
    "    'nclass': [1, 1, 2, 2],\n",
    "})\n",
    "\n",
    "new_df.to_csv('my-csv-file.csv')\n",
    "print(\n",
    "    pd.read_csv('my-csv-file.csv')\n",
    ")"
   ]
  },
  {
   "cell_type": "code",
   "execution_count": null,
   "id": "6ae1fbc4-8b32-4f76-9134-e32fe5ec7ca5",
   "metadata": {},
   "outputs": [],
   "source": []
  },
  {
   "cell_type": "code",
   "execution_count": 11,
   "id": "725c51e9-f796-448d-86b2-7f679a60b39b",
   "metadata": {},
   "outputs": [
    {
     "name": "stdout",
     "output_type": "stream",
     "text": [
      "   english  math  nclass\n",
      "0       90    50       1\n",
      "1       80    60       1\n",
      "2       60   100       2\n",
      "3       70    20       2\n"
     ]
    }
   ],
   "source": [
    "# `index` Column 이 없는 형식으로 CSV 파일 저장하기\n",
    "new_df.to_csv(\n",
    "    'my-csv-file-no-index.csv',\n",
    "    index=False\n",
    ")\n",
    "print(\n",
    "    pd.read_csv('my-csv-file-no-index.csv')\n",
    ")"
   ]
  }
 ],
 "metadata": {
  "kernelspec": {
   "display_name": "Python 3 (ipykernel)",
   "language": "python",
   "name": "python3"
  },
  "language_info": {
   "codemirror_mode": {
    "name": "ipython",
    "version": 3
   },
   "file_extension": ".py",
   "mimetype": "text/x-python",
   "name": "python",
   "nbconvert_exporter": "python",
   "pygments_lexer": "ipython3",
   "version": "3.11.5"
  }
 },
 "nbformat": 4,
 "nbformat_minor": 5
}
