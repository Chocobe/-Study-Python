{
 "cells": [
  {
   "cell_type": "code",
   "execution_count": 1,
   "id": "a892c0a1-bbad-442c-aadb-c7b87b7c9ad5",
   "metadata": {},
   "outputs": [],
   "source": [
    "import pandas as pd"
   ]
  },
  {
   "cell_type": "code",
   "execution_count": null,
   "id": "a0a14662-4e41-45c6-af29-5b36e3073b2e",
   "metadata": {},
   "outputs": [],
   "source": []
  },
  {
   "cell_type": "code",
   "execution_count": 11,
   "id": "ef3286ff-53d2-4f57-8e56-ca0f017c7911",
   "metadata": {},
   "outputs": [],
   "source": [
    "# 데이터 프레임 생성하기\n",
    "df = pd.DataFrame({\n",
    "    'name': ['김지훈', '이유진', '박동현', '김민지'],\n",
    "    'english': [90, 80, 60, 70],\n",
    "    'math': [50, 60, 100, 20],\n",
    "})"
   ]
  },
  {
   "cell_type": "code",
   "execution_count": null,
   "id": "2858a616-0e94-4961-891d-ac3fd3457be2",
   "metadata": {},
   "outputs": [],
   "source": []
  },
  {
   "cell_type": "code",
   "execution_count": 8,
   "id": "b5eda12e-279b-4f46-8417-357fd1b7c28a",
   "metadata": {},
   "outputs": [
    {
     "name": "stdout",
     "output_type": "stream",
     "text": [
      "  name  english  math\n",
      "0  김지훈       90    50\n",
      "1  이유진       80    60\n",
      "2  박동현       60   100\n",
      "3  김민지       70    20\n"
     ]
    }
   ],
   "source": [
    "print(df)"
   ]
  },
  {
   "cell_type": "code",
   "execution_count": 9,
   "id": "28d10df1-557d-4242-a518-5ea1e0a6ef56",
   "metadata": {},
   "outputs": [
    {
     "name": "stdout",
     "output_type": "stream",
     "text": [
      "0    90\n",
      "1    80\n",
      "2    60\n",
      "3    70\n",
      "Name: english, dtype: int64\n"
     ]
    }
   ],
   "source": [
    "print(df['english'])"
   ]
  },
  {
   "cell_type": "code",
   "execution_count": null,
   "id": "2f7b6c8d-eac9-44b0-bd95-d0827ec4a4c3",
   "metadata": {},
   "outputs": [],
   "source": []
  },
  {
   "cell_type": "code",
   "execution_count": 10,
   "id": "1f37affe-1ace-42c3-bc5f-b9bfe77b7758",
   "metadata": {},
   "outputs": [
    {
     "data": {
      "text/plain": [
       "300"
      ]
     },
     "execution_count": 10,
     "metadata": {},
     "output_type": "execute_result"
    }
   ],
   "source": [
    "# 'english' 합계 구하기\n",
    "sum(df['english'])"
   ]
  },
  {
   "cell_type": "code",
   "execution_count": null,
   "id": "a0a44722-8d9e-4133-ba0c-05120230039c",
   "metadata": {},
   "outputs": [],
   "source": []
  },
  {
   "cell_type": "code",
   "execution_count": 12,
   "id": "1840a60b-f2d4-40b0-bf56-0099d2911a02",
   "metadata": {},
   "outputs": [
    {
     "data": {
      "text/plain": [
       "230"
      ]
     },
     "execution_count": 12,
     "metadata": {},
     "output_type": "execute_result"
    }
   ],
   "source": [
    "# 'math' 합계 구하기\n",
    "sum(df['math'])"
   ]
  },
  {
   "cell_type": "code",
   "execution_count": null,
   "id": "f37a9f20-ad75-4cf9-b7a1-fb9d2b054dca",
   "metadata": {},
   "outputs": [],
   "source": []
  },
  {
   "cell_type": "code",
   "execution_count": 14,
   "id": "d533e240-572f-4fcf-a3f1-3b025c41730b",
   "metadata": {},
   "outputs": [
    {
     "name": "stdout",
     "output_type": "stream",
     "text": [
      "english 평균:  75.0\n"
     ]
    }
   ],
   "source": [
    "# 'english' 평균 구하기\n",
    "englishScores = df['english']\n",
    "englishAvg = sum(englishScores) / len(englishScores)\n",
    "print('english 평균: ', englishAvg)"
   ]
  },
  {
   "cell_type": "code",
   "execution_count": null,
   "id": "2301d8a3-2947-4b92-a0f2-c97d893c6fb8",
   "metadata": {},
   "outputs": [],
   "source": []
  },
  {
   "cell_type": "code",
   "execution_count": 15,
   "id": "d13a5bc5-0ad7-41c1-af6b-e5416a564103",
   "metadata": {},
   "outputs": [
    {
     "name": "stdout",
     "output_type": "stream",
     "text": [
      "math 평균:  57.5\n"
     ]
    }
   ],
   "source": [
    "# 'math' 평균 구하기\n",
    "mathScores = df['math']\n",
    "mathAvg = sum(mathScores) / len(mathScores)\n",
    "print('math 평균: ', mathAvg)"
   ]
  },
  {
   "cell_type": "code",
   "execution_count": null,
   "id": "1291bb55-ddfa-4ed3-8b95-d256e3ccdfb7",
   "metadata": {},
   "outputs": [],
   "source": []
  },
  {
   "cell_type": "code",
   "execution_count": 18,
   "id": "3be5bc26-255c-4514-b809-d9d68277ca4a",
   "metadata": {},
   "outputs": [
    {
     "name": "stdout",
     "output_type": "stream",
     "text": [
      "priceAvg:  2100.0\n",
      "soldAvg:  25.0\n"
     ]
    }
   ],
   "source": [
    "# 데이터 프레임을 생성하고 각 column 의 편균 구하기\n",
    "fruitDataFrame = pd.DataFrame({\n",
    "    'product': ['사과', '딸기', '수박'],\n",
    "    'price': [1800, 1500, 3000],\n",
    "    'sold': [24, 38, 13],\n",
    "})\n",
    "\n",
    "priceAvg = sum(fruitDataFrame['price']) / len(fruitDataFrame['price'])\n",
    "soldAvg = sum(fruitDataFrame['sold']) / len(fruitDataFrame['sold']);\n",
    "\n",
    "print('priceAvg: ', priceAvg)\n",
    "print('soldAvg: ', soldAvg)"
   ]
  }
 ],
 "metadata": {
  "kernelspec": {
   "display_name": "Python 3 (ipykernel)",
   "language": "python",
   "name": "python3"
  },
  "language_info": {
   "codemirror_mode": {
    "name": "ipython",
    "version": 3
   },
   "file_extension": ".py",
   "mimetype": "text/x-python",
   "name": "python",
   "nbconvert_exporter": "python",
   "pygments_lexer": "ipython3",
   "version": "3.11.5"
  }
 },
 "nbformat": 4,
 "nbformat_minor": 5
}
